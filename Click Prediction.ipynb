{
 "cells": [
  {
   "cell_type": "markdown",
   "metadata": {},
   "source": [
    "# Data Pre-Processing"
   ]
  },
  {
   "cell_type": "code",
   "execution_count": 1,
   "metadata": {},
   "outputs": [],
   "source": [
    "import pandas as pd\n",
    "import numpy as np\n",
    "import matplotlib.pyplot as plt \n",
    "import datetime \n",
    "from collections import Counter\n",
    "import collections\n",
    "from sklearn.metrics import accuracy_score\n",
    "from sklearn.metrics import recall_score\n",
    "from sklearn.metrics import roc_auc_score"
   ]
  },
  {
   "cell_type": "code",
   "execution_count": 2,
   "metadata": {},
   "outputs": [],
   "source": [
    "df= pd.read_csv(\"Desktop/Tookitaki/train.csv\")"
   ]
  },
  {
   "cell_type": "code",
   "execution_count": 3,
   "metadata": {},
   "outputs": [],
   "source": [
    "pd.options.display.max_columns =30"
   ]
  },
  {
   "cell_type": "code",
   "execution_count": 4,
   "metadata": {},
   "outputs": [
    {
     "data": {
      "text/html": [
       "<div>\n",
       "<style scoped>\n",
       "    .dataframe tbody tr th:only-of-type {\n",
       "        vertical-align: middle;\n",
       "    }\n",
       "\n",
       "    .dataframe tbody tr th {\n",
       "        vertical-align: top;\n",
       "    }\n",
       "\n",
       "    .dataframe thead th {\n",
       "        text-align: right;\n",
       "    }\n",
       "</style>\n",
       "<table border=\"1\" class=\"dataframe\">\n",
       "  <thead>\n",
       "    <tr style=\"text-align: right;\">\n",
       "      <th></th>\n",
       "      <th>ID</th>\n",
       "      <th>datetime</th>\n",
       "      <th>siteid</th>\n",
       "      <th>offerid</th>\n",
       "      <th>category</th>\n",
       "      <th>merchant</th>\n",
       "      <th>countrycode</th>\n",
       "      <th>browserid</th>\n",
       "      <th>devid</th>\n",
       "      <th>click</th>\n",
       "    </tr>\n",
       "  </thead>\n",
       "  <tbody>\n",
       "    <tr>\n",
       "      <th>0</th>\n",
       "      <td>IDsrk7SoW</td>\n",
       "      <td>2017-01-14 09:42:09</td>\n",
       "      <td>4709696.0</td>\n",
       "      <td>887235</td>\n",
       "      <td>17714</td>\n",
       "      <td>20301556</td>\n",
       "      <td>e</td>\n",
       "      <td>Firefox</td>\n",
       "      <td>NaN</td>\n",
       "      <td>0</td>\n",
       "    </tr>\n",
       "    <tr>\n",
       "      <th>1</th>\n",
       "      <td>IDmMSxHur</td>\n",
       "      <td>2017-01-18 17:50:53</td>\n",
       "      <td>5189467.0</td>\n",
       "      <td>178235</td>\n",
       "      <td>21407</td>\n",
       "      <td>9434818</td>\n",
       "      <td>b</td>\n",
       "      <td>Mozilla Firefox</td>\n",
       "      <td>Desktop</td>\n",
       "      <td>0</td>\n",
       "    </tr>\n",
       "    <tr>\n",
       "      <th>2</th>\n",
       "      <td>IDVLNN0Ut</td>\n",
       "      <td>2017-01-11 12:46:49</td>\n",
       "      <td>98480.0</td>\n",
       "      <td>518539</td>\n",
       "      <td>25085</td>\n",
       "      <td>2050923</td>\n",
       "      <td>a</td>\n",
       "      <td>Edge</td>\n",
       "      <td>NaN</td>\n",
       "      <td>0</td>\n",
       "    </tr>\n",
       "    <tr>\n",
       "      <th>3</th>\n",
       "      <td>ID32T6wwQ</td>\n",
       "      <td>2017-01-17 10:18:43</td>\n",
       "      <td>8896401.0</td>\n",
       "      <td>390352</td>\n",
       "      <td>40339</td>\n",
       "      <td>72089744</td>\n",
       "      <td>c</td>\n",
       "      <td>Firefox</td>\n",
       "      <td>Mobile</td>\n",
       "      <td>0</td>\n",
       "    </tr>\n",
       "    <tr>\n",
       "      <th>4</th>\n",
       "      <td>IDqUShzMg</td>\n",
       "      <td>2017-01-14 16:02:33</td>\n",
       "      <td>5635120.0</td>\n",
       "      <td>472937</td>\n",
       "      <td>12052</td>\n",
       "      <td>39507200</td>\n",
       "      <td>d</td>\n",
       "      <td>Mozilla Firefox</td>\n",
       "      <td>Desktop</td>\n",
       "      <td>0</td>\n",
       "    </tr>\n",
       "  </tbody>\n",
       "</table>\n",
       "</div>"
      ],
      "text/plain": [
       "          ID             datetime     siteid  offerid  category  merchant  \\\n",
       "0  IDsrk7SoW  2017-01-14 09:42:09  4709696.0   887235     17714  20301556   \n",
       "1  IDmMSxHur  2017-01-18 17:50:53  5189467.0   178235     21407   9434818   \n",
       "2  IDVLNN0Ut  2017-01-11 12:46:49    98480.0   518539     25085   2050923   \n",
       "3  ID32T6wwQ  2017-01-17 10:18:43  8896401.0   390352     40339  72089744   \n",
       "4  IDqUShzMg  2017-01-14 16:02:33  5635120.0   472937     12052  39507200   \n",
       "\n",
       "  countrycode        browserid    devid  click  \n",
       "0           e          Firefox      NaN      0  \n",
       "1           b  Mozilla Firefox  Desktop      0  \n",
       "2           a             Edge      NaN      0  \n",
       "3           c          Firefox   Mobile      0  \n",
       "4           d  Mozilla Firefox  Desktop      0  "
      ]
     },
     "execution_count": 4,
     "metadata": {},
     "output_type": "execute_result"
    }
   ],
   "source": [
    "df.head()"
   ]
  },
  {
   "cell_type": "code",
   "execution_count": 5,
   "metadata": {},
   "outputs": [
    {
     "name": "stdout",
     "output_type": "stream",
     "text": [
      "219173\n",
      "847510\n",
      "271\n",
      "697\n",
      "6\n",
      "11\n",
      "3\n"
     ]
    }
   ],
   "source": [
    "print(df[\"siteid\"].nunique())\n",
    "print(df[\"offerid\"].nunique())\n",
    "print(df[\"category\"].nunique())\n",
    "print(df[\"merchant\"].nunique())\n",
    "print(df[\"countrycode\"].nunique())\n",
    "print(df[\"browserid\"].nunique())\n",
    "print(df[\"devid\"].nunique())"
   ]
  },
  {
   "cell_type": "code",
   "execution_count": 6,
   "metadata": {},
   "outputs": [],
   "source": [
    "df[\"browserid\"].replace(\"Mozilla Firefox\", \"Firefox\", inplace=True)\n",
    "df[\"browserid\"].replace(\"Mozilla\", \"Firefox\", inplace=True)\n",
    "df[\"browserid\"].replace(\"InternetExplorer\", \"IE\", inplace=True)\n",
    "df[\"browserid\"].replace(\"Internet Explorer\", \"IE\", inplace=True)\n",
    "df[\"browserid\"].replace(\"Google Chrome\", \"Chrome\", inplace=True)\n",
    "df[\"browserid\"].fillna(method=\"bfill\", inplace=True)\n",
    "df[\"devid\"].fillna(method=\"bfill\", inplace=True)\n",
    "df[\"siteid\"].fillna(method=\"ffill\", inplace=True)"
   ]
  },
  {
   "cell_type": "code",
   "execution_count": 7,
   "metadata": {},
   "outputs": [
    {
     "data": {
      "text/plain": [
       "ID             0\n",
       "datetime       0\n",
       "siteid         0\n",
       "offerid        0\n",
       "category       0\n",
       "merchant       0\n",
       "countrycode    0\n",
       "browserid      0\n",
       "devid          0\n",
       "click          0\n",
       "dtype: int64"
      ]
     },
     "execution_count": 7,
     "metadata": {},
     "output_type": "execute_result"
    }
   ],
   "source": [
    "df.isnull().sum()"
   ]
  },
  {
   "cell_type": "code",
   "execution_count": 8,
   "metadata": {},
   "outputs": [],
   "source": [
    "df['datetime']= pd.to_datetime(df['datetime'])\n",
    "df['date'] = [d.date() for d in df['datetime']]\n",
    "df['time'] = [d.time() for d in df['datetime']]"
   ]
  },
  {
   "cell_type": "code",
   "execution_count": 9,
   "metadata": {
    "scrolled": false
   },
   "outputs": [],
   "source": [
    "#SITEID\n",
    "cats=df.pivot_table(index=\"siteid\",columns=\"click\",aggfunc=\"count\",values=\"countrycode\").values\n",
    "inds=df.pivot_table(index=\"siteid\",columns=\"click\",aggfunc=\"count\",values=\"countrycode\").index"
   ]
  },
  {
   "cell_type": "code",
   "execution_count": 10,
   "metadata": {},
   "outputs": [],
   "source": [
    "cats[np.isnan(cats)]=0"
   ]
  },
  {
   "cell_type": "code",
   "execution_count": 141,
   "metadata": {},
   "outputs": [],
   "source": [
    "# Counter(cats[:,1]).most_common()"
   ]
  },
  {
   "cell_type": "code",
   "execution_count": 12,
   "metadata": {},
   "outputs": [],
   "source": [
    "dict_ref1=dict([(i,j) for i,j in zip(inds,cats[:,1])])\n",
    "df[\"freq_siteid\"]=df[\"siteid\"].apply(lambda l: dict_ref1[l])"
   ]
  },
  {
   "cell_type": "code",
   "execution_count": 13,
   "metadata": {},
   "outputs": [],
   "source": [
    "df[\"cat_siteid\"]=\"wow\""
   ]
  },
  {
   "cell_type": "code",
   "execution_count": 14,
   "metadata": {},
   "outputs": [],
   "source": [
    "def zeb(x):\n",
    "    if x<=10:\n",
    "        return(\"0-10\")\n",
    "    elif 10<x<100:\n",
    "        return(\"10-100\")\n",
    "    elif 100<x<1000:\n",
    "        return(\"100-1000\")\n",
    "    else:\n",
    "        return(\"1000+\")"
   ]
  },
  {
   "cell_type": "code",
   "execution_count": 15,
   "metadata": {},
   "outputs": [],
   "source": [
    "df[\"cat_siteid\"]= df[\"freq_siteid\"].apply(lambda x:zeb(x))"
   ]
  },
  {
   "cell_type": "code",
   "execution_count": 16,
   "metadata": {},
   "outputs": [],
   "source": [
    "#OFFERID\n",
    "cats_offerid= df.pivot_table(index=\"offerid\", columns=\"click\",aggfunc=\"count\", values=\"countrycode\").values\n",
    "inds_offerid= df.pivot_table(index=\"offerid\", columns=\"click\",aggfunc=\"count\", values=\"countrycode\").index"
   ]
  },
  {
   "cell_type": "code",
   "execution_count": 17,
   "metadata": {},
   "outputs": [],
   "source": [
    "cats_offerid[np.isnan(cats_offerid)]= 0"
   ]
  },
  {
   "cell_type": "code",
   "execution_count": 142,
   "metadata": {},
   "outputs": [],
   "source": [
    "# Counter(cats_offerid[:,1]).most_common()\n"
   ]
  },
  {
   "cell_type": "code",
   "execution_count": 19,
   "metadata": {},
   "outputs": [],
   "source": [
    "dict_ref2=dict([(i,j) for i,j in zip(inds_offerid,cats_offerid[:,1])])\n",
    "df[\"freq_offerid\"]= df[\"offerid\"].apply(lambda x: dict_ref2[x])"
   ]
  },
  {
   "cell_type": "code",
   "execution_count": 20,
   "metadata": {},
   "outputs": [],
   "source": [
    "df[\"cat_offerid\"]= \"wow\""
   ]
  },
  {
   "cell_type": "code",
   "execution_count": 21,
   "metadata": {},
   "outputs": [],
   "source": [
    "def web(x):\n",
    "    if x<=10:\n",
    "        return(\"less than 10\")\n",
    "    elif 10<x<100:\n",
    "        return(\"10 to 100\")\n",
    "    elif 100<x<1000:\n",
    "        return(\"100 to 1000\")\n",
    "    else:\n",
    "        return(\"more than 1000\")"
   ]
  },
  {
   "cell_type": "code",
   "execution_count": 22,
   "metadata": {},
   "outputs": [],
   "source": [
    "df[\"cat_offerid\"]= df[\"freq_offerid\"].apply(lambda x: web(x))"
   ]
  },
  {
   "cell_type": "code",
   "execution_count": 23,
   "metadata": {},
   "outputs": [],
   "source": [
    "#MERCHANT\n",
    "cats_merchant= df.pivot_table(index=\"merchant\", columns=\"click\", values=\"countrycode\", aggfunc=\"count\").values\n",
    "inds_merchant= df.pivot_table(index=\"merchant\", columns=\"click\", values=\"countrycode\", aggfunc=\"count\").index"
   ]
  },
  {
   "cell_type": "code",
   "execution_count": 24,
   "metadata": {},
   "outputs": [],
   "source": [
    "cats_merchant[np.isnan(cats_merchant)]=0"
   ]
  },
  {
   "cell_type": "code",
   "execution_count": 143,
   "metadata": {},
   "outputs": [],
   "source": [
    "# Counter(cats_merchant[:,1]).most_common()"
   ]
  },
  {
   "cell_type": "code",
   "execution_count": 26,
   "metadata": {},
   "outputs": [],
   "source": [
    "def xeb(x):\n",
    "    if x==1:\n",
    "        return(\"1\")\n",
    "    elif x==2:\n",
    "        return(\"2\")\n",
    "    elif x==3 or x==4:\n",
    "        return(\"3-4\")\n",
    "    else:\n",
    "        return(\"more than 4\")"
   ]
  },
  {
   "cell_type": "code",
   "execution_count": 27,
   "metadata": {},
   "outputs": [],
   "source": [
    "df[\"cat_merchant\"]= \"wow\""
   ]
  },
  {
   "cell_type": "code",
   "execution_count": 75,
   "metadata": {},
   "outputs": [],
   "source": [
    "dict_ref3=dict([(i,j) for i,j in zip(inds_merchant,cats_merchant[:,1])])\n",
    "df[\"freq_merchant\"]= df[\"merchant\"].apply(lambda x: dict_ref3[x])"
   ]
  },
  {
   "cell_type": "code",
   "execution_count": 29,
   "metadata": {},
   "outputs": [],
   "source": [
    "df[\"cat_merchant\"]= df[\"freq_merchant\"].apply(lambda x: xeb(x))"
   ]
  },
  {
   "cell_type": "code",
   "execution_count": 30,
   "metadata": {},
   "outputs": [],
   "source": [
    "#CATEGORY\n",
    "cats_category= df.pivot_table(index=\"category\", columns=\"click\", values=\"countrycode\", aggfunc=\"count\").values\n",
    "inds_category= df.pivot_table(index=\"category\", columns=\"click\", values=\"countrycode\", aggfunc=\"count\").index"
   ]
  },
  {
   "cell_type": "code",
   "execution_count": 31,
   "metadata": {},
   "outputs": [],
   "source": [
    "cats_category[np.isnan(cats_category)]=0"
   ]
  },
  {
   "cell_type": "code",
   "execution_count": 144,
   "metadata": {},
   "outputs": [],
   "source": [
    "# Counter(cats_category[:,1]).most_common()"
   ]
  },
  {
   "cell_type": "code",
   "execution_count": 33,
   "metadata": {},
   "outputs": [],
   "source": [
    "def yeb(x):\n",
    "    if x==1:\n",
    "        return(\"1\")\n",
    "    elif x==2 or x==3:\n",
    "        return(\"2-3\")"
   ]
  },
  {
   "cell_type": "code",
   "execution_count": 34,
   "metadata": {},
   "outputs": [],
   "source": [
    "df[\"cat_category\"]= \"wow\""
   ]
  },
  {
   "cell_type": "code",
   "execution_count": 77,
   "metadata": {},
   "outputs": [],
   "source": [
    "dict_ref4=dict([(i,j) for i,j in zip(inds_category,cats_category[:,1])])\n",
    "df[\"freq_category\"]= df[\"category\"].apply(lambda x: dict_ref4[x])"
   ]
  },
  {
   "cell_type": "code",
   "execution_count": 36,
   "metadata": {},
   "outputs": [],
   "source": [
    "df[\"cat_category\"]= df[\"freq_category\"].apply(lambda x: yeb(x))"
   ]
  },
  {
   "cell_type": "code",
   "execution_count": 37,
   "metadata": {},
   "outputs": [],
   "source": [
    "#TIME\n",
    "cats_time= df.pivot_table(index=\"time\", columns=\"click\", values=\"countrycode\", aggfunc=\"count\").values\n",
    "inds_time= df.pivot_table(index=\"time\", columns=\"click\", values=\"countrycode\", aggfunc=\"count\").index"
   ]
  },
  {
   "cell_type": "code",
   "execution_count": 38,
   "metadata": {},
   "outputs": [],
   "source": [
    "cats_time[np.isnan(cats_time)]=0"
   ]
  },
  {
   "cell_type": "code",
   "execution_count": 145,
   "metadata": {
    "scrolled": true
   },
   "outputs": [],
   "source": [
    "# Counter(cats_time[:,1]).most_common()"
   ]
  },
  {
   "cell_type": "code",
   "execution_count": 40,
   "metadata": {},
   "outputs": [],
   "source": [
    "def veb(x):\n",
    "    if 1<=x<=100:\n",
    "        return(\"1-100\")\n",
    "    else:\n",
    "        return(\"above 100\")"
   ]
  },
  {
   "cell_type": "code",
   "execution_count": 41,
   "metadata": {},
   "outputs": [],
   "source": [
    "df[\"cat_time\"]= \"wow\""
   ]
  },
  {
   "cell_type": "code",
   "execution_count": 78,
   "metadata": {},
   "outputs": [],
   "source": [
    "dict_ref5=dict([(i,j) for i,j in zip(inds_time,cats_time[:,1])])\n",
    "df[\"freq_time\"]= df[\"time\"].apply(lambda x: dict_ref5[x])"
   ]
  },
  {
   "cell_type": "code",
   "execution_count": 43,
   "metadata": {},
   "outputs": [],
   "source": [
    "df[\"cat_time\"]= df[\"freq_time\"].apply(lambda x: veb(x))"
   ]
  },
  {
   "cell_type": "code",
   "execution_count": 44,
   "metadata": {},
   "outputs": [
    {
     "data": {
      "text/html": [
       "<div>\n",
       "<style scoped>\n",
       "    .dataframe tbody tr th:only-of-type {\n",
       "        vertical-align: middle;\n",
       "    }\n",
       "\n",
       "    .dataframe tbody tr th {\n",
       "        vertical-align: top;\n",
       "    }\n",
       "\n",
       "    .dataframe thead th {\n",
       "        text-align: right;\n",
       "    }\n",
       "</style>\n",
       "<table border=\"1\" class=\"dataframe\">\n",
       "  <thead>\n",
       "    <tr style=\"text-align: right;\">\n",
       "      <th></th>\n",
       "      <th>ID</th>\n",
       "      <th>datetime</th>\n",
       "      <th>siteid</th>\n",
       "      <th>offerid</th>\n",
       "      <th>category</th>\n",
       "      <th>merchant</th>\n",
       "      <th>countrycode</th>\n",
       "      <th>browserid</th>\n",
       "      <th>devid</th>\n",
       "      <th>click</th>\n",
       "      <th>date</th>\n",
       "      <th>time</th>\n",
       "      <th>freq_siteid</th>\n",
       "      <th>cat_siteid</th>\n",
       "      <th>freq_offerid</th>\n",
       "      <th>cat_offerid</th>\n",
       "      <th>cat_merchant</th>\n",
       "      <th>freq_merchant</th>\n",
       "      <th>cat_category</th>\n",
       "      <th>freq_category</th>\n",
       "      <th>cat_time</th>\n",
       "      <th>freq_time</th>\n",
       "    </tr>\n",
       "  </thead>\n",
       "  <tbody>\n",
       "    <tr>\n",
       "      <th>0</th>\n",
       "      <td>IDsrk7SoW</td>\n",
       "      <td>2017-01-14 09:42:09</td>\n",
       "      <td>4709696.0</td>\n",
       "      <td>887235</td>\n",
       "      <td>17714</td>\n",
       "      <td>20301556</td>\n",
       "      <td>e</td>\n",
       "      <td>Firefox</td>\n",
       "      <td>Desktop</td>\n",
       "      <td>0</td>\n",
       "      <td>2017-01-14</td>\n",
       "      <td>09:42:09</td>\n",
       "      <td>9.0</td>\n",
       "      <td>0-10</td>\n",
       "      <td>5.0</td>\n",
       "      <td>less than 10</td>\n",
       "      <td>more than 4</td>\n",
       "      <td>6583.0</td>\n",
       "      <td>None</td>\n",
       "      <td>9580.0</td>\n",
       "      <td>1-100</td>\n",
       "      <td>6.0</td>\n",
       "    </tr>\n",
       "    <tr>\n",
       "      <th>1</th>\n",
       "      <td>IDmMSxHur</td>\n",
       "      <td>2017-01-18 17:50:53</td>\n",
       "      <td>5189467.0</td>\n",
       "      <td>178235</td>\n",
       "      <td>21407</td>\n",
       "      <td>9434818</td>\n",
       "      <td>b</td>\n",
       "      <td>Firefox</td>\n",
       "      <td>Desktop</td>\n",
       "      <td>0</td>\n",
       "      <td>2017-01-18</td>\n",
       "      <td>17:50:53</td>\n",
       "      <td>9.0</td>\n",
       "      <td>0-10</td>\n",
       "      <td>5.0</td>\n",
       "      <td>less than 10</td>\n",
       "      <td>more than 4</td>\n",
       "      <td>697.0</td>\n",
       "      <td>None</td>\n",
       "      <td>2950.0</td>\n",
       "      <td>1-100</td>\n",
       "      <td>11.0</td>\n",
       "    </tr>\n",
       "    <tr>\n",
       "      <th>2</th>\n",
       "      <td>IDVLNN0Ut</td>\n",
       "      <td>2017-01-11 12:46:49</td>\n",
       "      <td>98480.0</td>\n",
       "      <td>518539</td>\n",
       "      <td>25085</td>\n",
       "      <td>2050923</td>\n",
       "      <td>a</td>\n",
       "      <td>Edge</td>\n",
       "      <td>Mobile</td>\n",
       "      <td>0</td>\n",
       "      <td>2017-01-11</td>\n",
       "      <td>12:46:49</td>\n",
       "      <td>130.0</td>\n",
       "      <td>100-1000</td>\n",
       "      <td>0.0</td>\n",
       "      <td>less than 10</td>\n",
       "      <td>more than 4</td>\n",
       "      <td>2504.0</td>\n",
       "      <td>None</td>\n",
       "      <td>265.0</td>\n",
       "      <td>1-100</td>\n",
       "      <td>6.0</td>\n",
       "    </tr>\n",
       "    <tr>\n",
       "      <th>3</th>\n",
       "      <td>ID32T6wwQ</td>\n",
       "      <td>2017-01-17 10:18:43</td>\n",
       "      <td>8896401.0</td>\n",
       "      <td>390352</td>\n",
       "      <td>40339</td>\n",
       "      <td>72089744</td>\n",
       "      <td>c</td>\n",
       "      <td>Firefox</td>\n",
       "      <td>Mobile</td>\n",
       "      <td>0</td>\n",
       "      <td>2017-01-17</td>\n",
       "      <td>10:18:43</td>\n",
       "      <td>757.0</td>\n",
       "      <td>100-1000</td>\n",
       "      <td>0.0</td>\n",
       "      <td>less than 10</td>\n",
       "      <td>more than 4</td>\n",
       "      <td>385.0</td>\n",
       "      <td>None</td>\n",
       "      <td>10141.0</td>\n",
       "      <td>1-100</td>\n",
       "      <td>9.0</td>\n",
       "    </tr>\n",
       "    <tr>\n",
       "      <th>4</th>\n",
       "      <td>IDqUShzMg</td>\n",
       "      <td>2017-01-14 16:02:33</td>\n",
       "      <td>5635120.0</td>\n",
       "      <td>472937</td>\n",
       "      <td>12052</td>\n",
       "      <td>39507200</td>\n",
       "      <td>d</td>\n",
       "      <td>Firefox</td>\n",
       "      <td>Desktop</td>\n",
       "      <td>0</td>\n",
       "      <td>2017-01-14</td>\n",
       "      <td>16:02:33</td>\n",
       "      <td>3.0</td>\n",
       "      <td>0-10</td>\n",
       "      <td>0.0</td>\n",
       "      <td>less than 10</td>\n",
       "      <td>more than 4</td>\n",
       "      <td>677.0</td>\n",
       "      <td>None</td>\n",
       "      <td>4625.0</td>\n",
       "      <td>1-100</td>\n",
       "      <td>9.0</td>\n",
       "    </tr>\n",
       "  </tbody>\n",
       "</table>\n",
       "</div>"
      ],
      "text/plain": [
       "          ID            datetime     siteid  offerid  category  merchant  \\\n",
       "0  IDsrk7SoW 2017-01-14 09:42:09  4709696.0   887235     17714  20301556   \n",
       "1  IDmMSxHur 2017-01-18 17:50:53  5189467.0   178235     21407   9434818   \n",
       "2  IDVLNN0Ut 2017-01-11 12:46:49    98480.0   518539     25085   2050923   \n",
       "3  ID32T6wwQ 2017-01-17 10:18:43  8896401.0   390352     40339  72089744   \n",
       "4  IDqUShzMg 2017-01-14 16:02:33  5635120.0   472937     12052  39507200   \n",
       "\n",
       "  countrycode browserid    devid  click        date      time  freq_siteid  \\\n",
       "0           e   Firefox  Desktop      0  2017-01-14  09:42:09          9.0   \n",
       "1           b   Firefox  Desktop      0  2017-01-18  17:50:53          9.0   \n",
       "2           a      Edge   Mobile      0  2017-01-11  12:46:49        130.0   \n",
       "3           c   Firefox   Mobile      0  2017-01-17  10:18:43        757.0   \n",
       "4           d   Firefox  Desktop      0  2017-01-14  16:02:33          3.0   \n",
       "\n",
       "  cat_siteid  freq_offerid   cat_offerid cat_merchant  freq_merchant  \\\n",
       "0       0-10           5.0  less than 10  more than 4         6583.0   \n",
       "1       0-10           5.0  less than 10  more than 4          697.0   \n",
       "2   100-1000           0.0  less than 10  more than 4         2504.0   \n",
       "3   100-1000           0.0  less than 10  more than 4          385.0   \n",
       "4       0-10           0.0  less than 10  more than 4          677.0   \n",
       "\n",
       "  cat_category  freq_category cat_time  freq_time  \n",
       "0         None         9580.0    1-100        6.0  \n",
       "1         None         2950.0    1-100       11.0  \n",
       "2         None          265.0    1-100        6.0  \n",
       "3         None        10141.0    1-100        9.0  \n",
       "4         None         4625.0    1-100        9.0  "
      ]
     },
     "execution_count": 44,
     "metadata": {},
     "output_type": "execute_result"
    }
   ],
   "source": [
    "df.head()"
   ]
  },
  {
   "cell_type": "code",
   "execution_count": null,
   "metadata": {},
   "outputs": [],
   "source": []
  },
  {
   "cell_type": "markdown",
   "metadata": {},
   "source": [
    "# Dropping Unnecessary Features"
   ]
  },
  {
   "cell_type": "code",
   "execution_count": 45,
   "metadata": {},
   "outputs": [],
   "source": [
    "df1= df.drop([\"category\", \"merchant\", \"datetime\", \"siteid\", \"offerid\",\"freq_category\", \"freq_merchant\", \"freq_time\", \"freq_siteid\", \"freq_offerid\", \"date\",\"time\"] , axis=1)"
   ]
  },
  {
   "cell_type": "code",
   "execution_count": 46,
   "metadata": {},
   "outputs": [
    {
     "data": {
      "text/html": [
       "<div>\n",
       "<style scoped>\n",
       "    .dataframe tbody tr th:only-of-type {\n",
       "        vertical-align: middle;\n",
       "    }\n",
       "\n",
       "    .dataframe tbody tr th {\n",
       "        vertical-align: top;\n",
       "    }\n",
       "\n",
       "    .dataframe thead th {\n",
       "        text-align: right;\n",
       "    }\n",
       "</style>\n",
       "<table border=\"1\" class=\"dataframe\">\n",
       "  <thead>\n",
       "    <tr style=\"text-align: right;\">\n",
       "      <th></th>\n",
       "      <th>ID</th>\n",
       "      <th>countrycode</th>\n",
       "      <th>browserid</th>\n",
       "      <th>devid</th>\n",
       "      <th>click</th>\n",
       "      <th>cat_siteid</th>\n",
       "      <th>cat_offerid</th>\n",
       "      <th>cat_merchant</th>\n",
       "      <th>cat_category</th>\n",
       "      <th>cat_time</th>\n",
       "    </tr>\n",
       "  </thead>\n",
       "  <tbody>\n",
       "    <tr>\n",
       "      <th>0</th>\n",
       "      <td>IDsrk7SoW</td>\n",
       "      <td>e</td>\n",
       "      <td>Firefox</td>\n",
       "      <td>Desktop</td>\n",
       "      <td>0</td>\n",
       "      <td>0-10</td>\n",
       "      <td>less than 10</td>\n",
       "      <td>more than 4</td>\n",
       "      <td>None</td>\n",
       "      <td>1-100</td>\n",
       "    </tr>\n",
       "    <tr>\n",
       "      <th>1</th>\n",
       "      <td>IDmMSxHur</td>\n",
       "      <td>b</td>\n",
       "      <td>Firefox</td>\n",
       "      <td>Desktop</td>\n",
       "      <td>0</td>\n",
       "      <td>0-10</td>\n",
       "      <td>less than 10</td>\n",
       "      <td>more than 4</td>\n",
       "      <td>None</td>\n",
       "      <td>1-100</td>\n",
       "    </tr>\n",
       "    <tr>\n",
       "      <th>2</th>\n",
       "      <td>IDVLNN0Ut</td>\n",
       "      <td>a</td>\n",
       "      <td>Edge</td>\n",
       "      <td>Mobile</td>\n",
       "      <td>0</td>\n",
       "      <td>100-1000</td>\n",
       "      <td>less than 10</td>\n",
       "      <td>more than 4</td>\n",
       "      <td>None</td>\n",
       "      <td>1-100</td>\n",
       "    </tr>\n",
       "    <tr>\n",
       "      <th>3</th>\n",
       "      <td>ID32T6wwQ</td>\n",
       "      <td>c</td>\n",
       "      <td>Firefox</td>\n",
       "      <td>Mobile</td>\n",
       "      <td>0</td>\n",
       "      <td>100-1000</td>\n",
       "      <td>less than 10</td>\n",
       "      <td>more than 4</td>\n",
       "      <td>None</td>\n",
       "      <td>1-100</td>\n",
       "    </tr>\n",
       "    <tr>\n",
       "      <th>4</th>\n",
       "      <td>IDqUShzMg</td>\n",
       "      <td>d</td>\n",
       "      <td>Firefox</td>\n",
       "      <td>Desktop</td>\n",
       "      <td>0</td>\n",
       "      <td>0-10</td>\n",
       "      <td>less than 10</td>\n",
       "      <td>more than 4</td>\n",
       "      <td>None</td>\n",
       "      <td>1-100</td>\n",
       "    </tr>\n",
       "  </tbody>\n",
       "</table>\n",
       "</div>"
      ],
      "text/plain": [
       "          ID countrycode browserid    devid  click cat_siteid   cat_offerid  \\\n",
       "0  IDsrk7SoW           e   Firefox  Desktop      0       0-10  less than 10   \n",
       "1  IDmMSxHur           b   Firefox  Desktop      0       0-10  less than 10   \n",
       "2  IDVLNN0Ut           a      Edge   Mobile      0   100-1000  less than 10   \n",
       "3  ID32T6wwQ           c   Firefox   Mobile      0   100-1000  less than 10   \n",
       "4  IDqUShzMg           d   Firefox  Desktop      0       0-10  less than 10   \n",
       "\n",
       "  cat_merchant cat_category cat_time  \n",
       "0  more than 4         None    1-100  \n",
       "1  more than 4         None    1-100  \n",
       "2  more than 4         None    1-100  \n",
       "3  more than 4         None    1-100  \n",
       "4  more than 4         None    1-100  "
      ]
     },
     "execution_count": 46,
     "metadata": {},
     "output_type": "execute_result"
    }
   ],
   "source": [
    "df1.head()"
   ]
  },
  {
   "cell_type": "code",
   "execution_count": 47,
   "metadata": {},
   "outputs": [],
   "source": [
    "df1.set_index(\"ID\", inplace=True)"
   ]
  },
  {
   "cell_type": "code",
   "execution_count": 48,
   "metadata": {},
   "outputs": [],
   "source": [
    "target=\"click\"\n",
    "categorical=[\"cat_category\", \"cat_merchant\", \"countrycode\", \"browserid\", \"devid\",\"cat_siteid\",\"cat_offerid\", \"cat_time\"]"
   ]
  },
  {
   "cell_type": "code",
   "execution_count": 49,
   "metadata": {},
   "outputs": [],
   "source": [
    "df2 = pd.get_dummies(df1[categorical],drop_first=True)"
   ]
  },
  {
   "cell_type": "code",
   "execution_count": 50,
   "metadata": {},
   "outputs": [
    {
     "data": {
      "text/plain": [
       "(12137810, 22)"
      ]
     },
     "execution_count": 50,
     "metadata": {},
     "output_type": "execute_result"
    }
   ],
   "source": [
    "df2.shape"
   ]
  },
  {
   "cell_type": "code",
   "execution_count": 51,
   "metadata": {},
   "outputs": [],
   "source": [
    "X=df2.values\n",
    "y=df1[target].values"
   ]
  },
  {
   "cell_type": "markdown",
   "metadata": {},
   "source": [
    "# Logistic Regression"
   ]
  },
  {
   "cell_type": "code",
   "execution_count": 52,
   "metadata": {},
   "outputs": [],
   "source": [
    "from sklearn.model_selection import train_test_split\n",
    "X_train, X_test, y_train, y_test= train_test_split(X, y, test_size=1/3, random_state=0)"
   ]
  },
  {
   "cell_type": "code",
   "execution_count": 53,
   "metadata": {},
   "outputs": [
    {
     "name": "stdout",
     "output_type": "stream",
     "text": [
      "0.895251291267397\n",
      "0.8950690532254951\n"
     ]
    }
   ],
   "source": [
    "#METHOD 1\n",
    "from sklearn.linear_model import LogisticRegression\n",
    "lr_balanced = LogisticRegression(class_weight = 'balanced')\n",
    "lr_balanced.fit(X_train,y_train)\n",
    "y_balanced_pred = lr_balanced.predict(X_test)\n",
    "print(recall_score(y_test,y_balanced_pred))\n",
    "print(accuracy_score(y_test,y_balanced_pred))"
   ]
  },
  {
   "cell_type": "markdown",
   "metadata": {},
   "source": [
    "# Random Undersampling"
   ]
  },
  {
   "cell_type": "code",
   "execution_count": 54,
   "metadata": {},
   "outputs": [
    {
     "name": "stderr",
     "output_type": "stream",
     "text": [
      "C:\\Users\\gupta\\Anaconda3\\lib\\site-packages\\sklearn\\ensemble\\weight_boosting.py:29: DeprecationWarning: numpy.core.umath_tests is an internal NumPy module and should not be imported. It will be removed in a future NumPy release.\n",
      "  from numpy.core.umath_tests import inner1d\n"
     ]
    }
   ],
   "source": [
    "#METHOD 2\n",
    "from sklearn.datasets import make_classification\n",
    "from imblearn.under_sampling import RandomUnderSampler\n",
    "rus = RandomUnderSampler(random_state=0)\n",
    "X_resampled, y_resampled = rus.fit_sample(X, y)"
   ]
  },
  {
   "cell_type": "code",
   "execution_count": 55,
   "metadata": {},
   "outputs": [
    {
     "data": {
      "text/plain": [
       "874428"
      ]
     },
     "execution_count": 55,
     "metadata": {},
     "output_type": "execute_result"
    }
   ],
   "source": [
    "len(X_resampled)"
   ]
  },
  {
   "cell_type": "markdown",
   "metadata": {},
   "source": [
    "# Model Training on Undersampled Data"
   ]
  },
  {
   "cell_type": "code",
   "execution_count": 56,
   "metadata": {},
   "outputs": [],
   "source": [
    "from sklearn.model_selection import train_test_split\n",
    "X_train, X_test, y_train, y_test= train_test_split(X_resampled, y_resampled, test_size=1/3, random_state=0)"
   ]
  },
  {
   "cell_type": "markdown",
   "metadata": {},
   "source": [
    "# Logistic Regression"
   ]
  },
  {
   "cell_type": "code",
   "execution_count": 57,
   "metadata": {},
   "outputs": [
    {
     "name": "stdout",
     "output_type": "stream",
     "text": [
      "0.8974113926226409\n",
      "0.8966810303421208\n"
     ]
    }
   ],
   "source": [
    "from sklearn.linear_model import LogisticRegression\n",
    "lr =LogisticRegression()\n",
    "lr.fit(X_train, y_train)\n",
    "y_lr_pred = lr.predict(X_test)\n",
    "print(recall_score(y_test,y_lr_pred))\n",
    "print(roc_auc_score(y_test,y_lr_pred))"
   ]
  },
  {
   "cell_type": "markdown",
   "metadata": {},
   "source": [
    "# XG-Boost"
   ]
  },
  {
   "cell_type": "code",
   "execution_count": 128,
   "metadata": {},
   "outputs": [
    {
     "name": "stdout",
     "output_type": "stream",
     "text": [
      "0.9142699989686823\n",
      "0.9028451569166672\n"
     ]
    },
    {
     "name": "stderr",
     "output_type": "stream",
     "text": [
      "C:\\Users\\gupta\\Anaconda3\\lib\\site-packages\\sklearn\\preprocessing\\label.py:151: DeprecationWarning: The truth value of an empty array is ambiguous. Returning False, but in future this will result in an error. Use `array.size > 0` to check that an array is not empty.\n",
      "  if diff:\n"
     ]
    }
   ],
   "source": [
    "from xgboost.sklearn import XGBClassifier\n",
    "# from sklearn import cross_validation, metrics   \n",
    "# from sklearn.grid_search import GridSearchCV\n",
    "model = XGBClassifier(max_depth=5)\n",
    "model.fit(X_train, y_train)\n",
    "y_xgb_pred = model.predict(X_test)\n",
    "print(recall_score(y_test,y_xgb_pred))\n",
    "print(roc_auc_score(y_test,y_xgb_pred))"
   ]
  },
  {
   "cell_type": "markdown",
   "metadata": {},
   "source": [
    "# Random Forest"
   ]
  },
  {
   "cell_type": "code",
   "execution_count": 131,
   "metadata": {},
   "outputs": [
    {
     "name": "stdout",
     "output_type": "stream",
     "text": [
      "0.9144831379559284\n",
      "0.9028387367026253\n"
     ]
    }
   ],
   "source": [
    "from sklearn.ensemble import RandomForestClassifier\n",
    "rfc =RandomForestClassifier(n_estimators=50)\n",
    "rfc.fit(X_train, y_train)\n",
    "y_rfc_pred = rfc.predict(X_test)\n",
    "print(recall_score(y_test,y_rfc_pred))\n",
    "print(roc_auc_score(y_test,y_rfc_pred))"
   ]
  },
  {
   "cell_type": "markdown",
   "metadata": {},
   "source": [
    "# Decision Tree"
   ]
  },
  {
   "cell_type": "code",
   "execution_count": 123,
   "metadata": {},
   "outputs": [],
   "source": [
    "from sklearn.tree import DecisionTreeClassifier\n",
    "from sklearn import tree\n",
    "from sklearn.externals.six import StringIO  \n",
    "from IPython.display import Image  \n",
    "from sklearn.tree import export_graphviz\n",
    "import pydotplus"
   ]
  },
  {
   "cell_type": "code",
   "execution_count": 59,
   "metadata": {},
   "outputs": [
    {
     "data": {
      "text/plain": [
       "DecisionTreeClassifier(class_weight=None, criterion='gini', max_depth=3,\n",
       "            max_features=None, max_leaf_nodes=None,\n",
       "            min_impurity_decrease=0.0, min_impurity_split=None,\n",
       "            min_samples_leaf=5, min_samples_split=2,\n",
       "            min_weight_fraction_leaf=0.0, presort=False, random_state=100,\n",
       "            splitter='best')"
      ]
     },
     "execution_count": 59,
     "metadata": {},
     "output_type": "execute_result"
    }
   ],
   "source": [
    "clf_gini = DecisionTreeClassifier(criterion = \"gini\", random_state = 100,\n",
    "                               max_depth=3, min_samples_leaf=5)\n",
    "clf_gini.fit(X_train, y_train)"
   ]
  },
  {
   "cell_type": "code",
   "execution_count": 140,
   "metadata": {},
   "outputs": [
    {
     "name": "stdout",
     "output_type": "stream",
     "text": [
      "0.887421362026883\n",
      "0.8547770656932303\n",
      "0.8548425639698001\n"
     ]
    }
   ],
   "source": [
    "y_pred = clf_gini.predict(X_test)\n",
    "print(recall_score(y_test,y_pred))\n",
    "print(accuracy_score(y_test,y_pred))\n",
    "print(roc_auc_score(y_test,y_pred))"
   ]
  },
  {
   "cell_type": "markdown",
   "metadata": {},
   "source": [
    "# Visualization of Decision Tree"
   ]
  },
  {
   "cell_type": "code",
   "execution_count": 60,
   "metadata": {},
   "outputs": [],
   "source": [
    "tree.export_graphviz(clf_gini,out_file='tree.dot')   "
   ]
  },
  {
   "cell_type": "code",
   "execution_count": 139,
   "metadata": {},
   "outputs": [
    {
     "data": {
      "image/svg+xml": [
       "<svg height=\"433pt\" viewBox=\"0.00 0.00 1241.50 433.00\" width=\"1242pt\" xmlns=\"http://www.w3.org/2000/svg\" xmlns:xlink=\"http://www.w3.org/1999/xlink\">\n",
       "<g class=\"graph\" id=\"graph0\" transform=\"scale(1 1) rotate(0) translate(4 429)\">\n",
       "<title>Tree</title>\n",
       "<polygon fill=\"white\" points=\"-4,4 -4,-429 1237.5,-429 1237.5,4 -4,4\" stroke=\"none\"/>\n",
       "<!-- 0 -->\n",
       "<g class=\"node\" id=\"node1\"><title>0</title>\n",
       "<polygon fill=\"#399de5\" fill-opacity=\"0.003922\" points=\"712,-425 554,-425 554,-342 712,-342 712,-425\" stroke=\"black\"/>\n",
       "<text font-family=\"Times New Roman,serif\" font-size=\"14.00\" text-anchor=\"middle\" x=\"633\" y=\"-409.8\">countrycode_c &lt;= 0.5</text>\n",
       "<text font-family=\"Times New Roman,serif\" font-size=\"14.00\" text-anchor=\"middle\" x=\"633\" y=\"-394.8\">gini = 0.5</text>\n",
       "<text font-family=\"Times New Roman,serif\" font-size=\"14.00\" text-anchor=\"middle\" x=\"633\" y=\"-379.8\">samples = 582952</text>\n",
       "<text font-family=\"Times New Roman,serif\" font-size=\"14.00\" text-anchor=\"middle\" x=\"633\" y=\"-364.8\">value = [291183, 291769]</text>\n",
       "<text font-family=\"Times New Roman,serif\" font-size=\"14.00\" text-anchor=\"middle\" x=\"633\" y=\"-349.8\">class = 1</text>\n",
       "</g>\n",
       "<!-- 1 -->\n",
       "<g class=\"node\" id=\"node2\"><title>1</title>\n",
       "<polygon fill=\"#e58139\" fill-opacity=\"0.470588\" points=\"594,-306 436,-306 436,-223 594,-223 594,-306\" stroke=\"black\"/>\n",
       "<text font-family=\"Times New Roman,serif\" font-size=\"14.00\" text-anchor=\"middle\" x=\"515\" y=\"-290.8\">countrycode_d &lt;= 0.5</text>\n",
       "<text font-family=\"Times New Roman,serif\" font-size=\"14.00\" text-anchor=\"middle\" x=\"515\" y=\"-275.8\">gini = 0.452</text>\n",
       "<text font-family=\"Times New Roman,serif\" font-size=\"14.00\" text-anchor=\"middle\" x=\"515\" y=\"-260.8\">samples = 422967</text>\n",
       "<text font-family=\"Times New Roman,serif\" font-size=\"14.00\" text-anchor=\"middle\" x=\"515\" y=\"-245.8\">value = [276775, 146192]</text>\n",
       "<text font-family=\"Times New Roman,serif\" font-size=\"14.00\" text-anchor=\"middle\" x=\"515\" y=\"-230.8\">class = 0</text>\n",
       "</g>\n",
       "<!-- 0&#45;&gt;1 -->\n",
       "<g class=\"edge\" id=\"edge1\"><title>0-&gt;1</title>\n",
       "<path d=\"M592.06,-341.907C582.725,-332.651 572.721,-322.732 563.117,-313.209\" fill=\"none\" stroke=\"black\"/>\n",
       "<polygon fill=\"black\" points=\"565.433,-310.576 555.867,-306.021 560.504,-315.547 565.433,-310.576\" stroke=\"black\"/>\n",
       "<text font-family=\"Times New Roman,serif\" font-size=\"14.00\" text-anchor=\"middle\" x=\"555.974\" y=\"-327.321\">True</text>\n",
       "</g>\n",
       "<!-- 8 -->\n",
       "<g class=\"node\" id=\"node9\"><title>8</title>\n",
       "<polygon fill=\"#399de5\" fill-opacity=\"0.901961\" points=\"828,-306 676,-306 676,-223 828,-223 828,-306\" stroke=\"black\"/>\n",
       "<text font-family=\"Times New Roman,serif\" font-size=\"14.00\" text-anchor=\"middle\" x=\"752\" y=\"-290.8\">browserid_Edge &lt;= 0.5</text>\n",
       "<text font-family=\"Times New Roman,serif\" font-size=\"14.00\" text-anchor=\"middle\" x=\"752\" y=\"-275.8\">gini = 0.164</text>\n",
       "<text font-family=\"Times New Roman,serif\" font-size=\"14.00\" text-anchor=\"middle\" x=\"752\" y=\"-260.8\">samples = 159985</text>\n",
       "<text font-family=\"Times New Roman,serif\" font-size=\"14.00\" text-anchor=\"middle\" x=\"752\" y=\"-245.8\">value = [14408, 145577]</text>\n",
       "<text font-family=\"Times New Roman,serif\" font-size=\"14.00\" text-anchor=\"middle\" x=\"752\" y=\"-230.8\">class = 1</text>\n",
       "</g>\n",
       "<!-- 0&#45;&gt;8 -->\n",
       "<g class=\"edge\" id=\"edge8\"><title>0-&gt;8</title>\n",
       "<path d=\"M674.286,-341.907C683.701,-332.651 693.789,-322.732 703.476,-313.209\" fill=\"none\" stroke=\"black\"/>\n",
       "<polygon fill=\"black\" points=\"706.11,-315.527 710.787,-306.021 701.202,-310.536 706.11,-315.527\" stroke=\"black\"/>\n",
       "<text font-family=\"Times New Roman,serif\" font-size=\"14.00\" text-anchor=\"middle\" x=\"710.575\" y=\"-327.32\">False</text>\n",
       "</g>\n",
       "<!-- 2 -->\n",
       "<g class=\"node\" id=\"node3\"><title>2</title>\n",
       "<polygon fill=\"#e58139\" fill-opacity=\"0.776471\" points=\"319,-187 167,-187 167,-104 319,-104 319,-187\" stroke=\"black\"/>\n",
       "<text font-family=\"Times New Roman,serif\" font-size=\"14.00\" text-anchor=\"middle\" x=\"243\" y=\"-171.8\">browserid_IE &lt;= 0.5</text>\n",
       "<text font-family=\"Times New Roman,serif\" font-size=\"14.00\" text-anchor=\"middle\" x=\"243\" y=\"-156.8\">gini = 0.298</text>\n",
       "<text font-family=\"Times New Roman,serif\" font-size=\"14.00\" text-anchor=\"middle\" x=\"243\" y=\"-141.8\">samples = 320687</text>\n",
       "<text font-family=\"Times New Roman,serif\" font-size=\"14.00\" text-anchor=\"middle\" x=\"243\" y=\"-126.8\">value = [262229, 58458]</text>\n",
       "<text font-family=\"Times New Roman,serif\" font-size=\"14.00\" text-anchor=\"middle\" x=\"243\" y=\"-111.8\">class = 0</text>\n",
       "</g>\n",
       "<!-- 1&#45;&gt;2 -->\n",
       "<g class=\"edge\" id=\"edge2\"><title>1-&gt;2</title>\n",
       "<path d=\"M435.961,-229.502C402.412,-215.07 363.218,-198.211 328.95,-183.471\" fill=\"none\" stroke=\"black\"/>\n",
       "<polygon fill=\"black\" points=\"329.994,-180.11 319.424,-179.374 327.228,-186.54 329.994,-180.11\" stroke=\"black\"/>\n",
       "</g>\n",
       "<!-- 5 -->\n",
       "<g class=\"node\" id=\"node6\"><title>5</title>\n",
       "<polygon fill=\"#399de5\" fill-opacity=\"0.835294\" points=\"596,-187 434,-187 434,-104 596,-104 596,-187\" stroke=\"black\"/>\n",
       "<text font-family=\"Times New Roman,serif\" font-size=\"14.00\" text-anchor=\"middle\" x=\"515\" y=\"-171.8\">browserid_Firefox &lt;= 0.5</text>\n",
       "<text font-family=\"Times New Roman,serif\" font-size=\"14.00\" text-anchor=\"middle\" x=\"515\" y=\"-156.8\">gini = 0.244</text>\n",
       "<text font-family=\"Times New Roman,serif\" font-size=\"14.00\" text-anchor=\"middle\" x=\"515\" y=\"-141.8\">samples = 102280</text>\n",
       "<text font-family=\"Times New Roman,serif\" font-size=\"14.00\" text-anchor=\"middle\" x=\"515\" y=\"-126.8\">value = [14546, 87734]</text>\n",
       "<text font-family=\"Times New Roman,serif\" font-size=\"14.00\" text-anchor=\"middle\" x=\"515\" y=\"-111.8\">class = 1</text>\n",
       "</g>\n",
       "<!-- 1&#45;&gt;5 -->\n",
       "<g class=\"edge\" id=\"edge5\"><title>1-&gt;5</title>\n",
       "<path d=\"M515,-222.907C515,-214.649 515,-205.864 515,-197.302\" fill=\"none\" stroke=\"black\"/>\n",
       "<polygon fill=\"black\" points=\"518.5,-197.021 515,-187.021 511.5,-197.021 518.5,-197.021\" stroke=\"black\"/>\n",
       "</g>\n",
       "<!-- 3 -->\n",
       "<g class=\"node\" id=\"node4\"><title>3</title>\n",
       "<polygon fill=\"#e58139\" fill-opacity=\"0.870588\" points=\"152,-68 0,-68 0,-0 152,-0 152,-68\" stroke=\"black\"/>\n",
       "<text font-family=\"Times New Roman,serif\" font-size=\"14.00\" text-anchor=\"middle\" x=\"76\" y=\"-52.8\">gini = 0.203</text>\n",
       "<text font-family=\"Times New Roman,serif\" font-size=\"14.00\" text-anchor=\"middle\" x=\"76\" y=\"-37.8\">samples = 266247</text>\n",
       "<text font-family=\"Times New Roman,serif\" font-size=\"14.00\" text-anchor=\"middle\" x=\"76\" y=\"-22.8\">value = [235659, 30588]</text>\n",
       "<text font-family=\"Times New Roman,serif\" font-size=\"14.00\" text-anchor=\"middle\" x=\"76\" y=\"-7.8\">class = 0</text>\n",
       "</g>\n",
       "<!-- 2&#45;&gt;3 -->\n",
       "<g class=\"edge\" id=\"edge3\"><title>2-&gt;3</title>\n",
       "<path d=\"M180.815,-103.726C165.854,-93.9161 149.914,-83.4644 135.098,-73.7496\" fill=\"none\" stroke=\"black\"/>\n",
       "<polygon fill=\"black\" points=\"136.802,-70.6816 126.52,-68.1252 132.963,-76.5355 136.802,-70.6816\" stroke=\"black\"/>\n",
       "</g>\n",
       "<!-- 4 -->\n",
       "<g class=\"node\" id=\"node5\"><title>4</title>\n",
       "<polygon fill=\"#399de5\" fill-opacity=\"0.047059\" points=\"315.5,-68 170.5,-68 170.5,-0 315.5,-0 315.5,-68\" stroke=\"black\"/>\n",
       "<text font-family=\"Times New Roman,serif\" font-size=\"14.00\" text-anchor=\"middle\" x=\"243\" y=\"-52.8\">gini = 0.5</text>\n",
       "<text font-family=\"Times New Roman,serif\" font-size=\"14.00\" text-anchor=\"middle\" x=\"243\" y=\"-37.8\">samples = 54440</text>\n",
       "<text font-family=\"Times New Roman,serif\" font-size=\"14.00\" text-anchor=\"middle\" x=\"243\" y=\"-22.8\">value = [26570, 27870]</text>\n",
       "<text font-family=\"Times New Roman,serif\" font-size=\"14.00\" text-anchor=\"middle\" x=\"243\" y=\"-7.8\">class = 1</text>\n",
       "</g>\n",
       "<!-- 2&#45;&gt;4 -->\n",
       "<g class=\"edge\" id=\"edge4\"><title>2-&gt;4</title>\n",
       "<path d=\"M243,-103.726C243,-95.5175 243,-86.8595 243,-78.56\" fill=\"none\" stroke=\"black\"/>\n",
       "<polygon fill=\"black\" points=\"246.5,-78.2996 243,-68.2996 239.5,-78.2996 246.5,-78.2996\" stroke=\"black\"/>\n",
       "</g>\n",
       "<!-- 6 -->\n",
       "<g class=\"node\" id=\"node7\"><title>6</title>\n",
       "<polygon fill=\"#399de5\" fill-opacity=\"0.905882\" points=\"472,-68 334,-68 334,-0 472,-0 472,-68\" stroke=\"black\"/>\n",
       "<text font-family=\"Times New Roman,serif\" font-size=\"14.00\" text-anchor=\"middle\" x=\"403\" y=\"-52.8\">gini = 0.157</text>\n",
       "<text font-family=\"Times New Roman,serif\" font-size=\"14.00\" text-anchor=\"middle\" x=\"403\" y=\"-37.8\">samples = 86456</text>\n",
       "<text font-family=\"Times New Roman,serif\" font-size=\"14.00\" text-anchor=\"middle\" x=\"403\" y=\"-22.8\">value = [7403, 79053]</text>\n",
       "<text font-family=\"Times New Roman,serif\" font-size=\"14.00\" text-anchor=\"middle\" x=\"403\" y=\"-7.8\">class = 1</text>\n",
       "</g>\n",
       "<!-- 5&#45;&gt;6 -->\n",
       "<g class=\"edge\" id=\"edge6\"><title>5-&gt;6</title>\n",
       "<path d=\"M473.295,-103.726C463.873,-94.5142 453.872,-84.7364 444.46,-75.5343\" fill=\"none\" stroke=\"black\"/>\n",
       "<polygon fill=\"black\" points=\"446.657,-72.7878 437.06,-68.2996 441.764,-77.7931 446.657,-72.7878\" stroke=\"black\"/>\n",
       "</g>\n",
       "<!-- 7 -->\n",
       "<g class=\"node\" id=\"node8\"><title>7</title>\n",
       "<polygon fill=\"#399de5\" fill-opacity=\"0.176471\" points=\"621.5,-68 490.5,-68 490.5,-0 621.5,-0 621.5,-68\" stroke=\"black\"/>\n",
       "<text font-family=\"Times New Roman,serif\" font-size=\"14.00\" text-anchor=\"middle\" x=\"556\" y=\"-52.8\">gini = 0.495</text>\n",
       "<text font-family=\"Times New Roman,serif\" font-size=\"14.00\" text-anchor=\"middle\" x=\"556\" y=\"-37.8\">samples = 15824</text>\n",
       "<text font-family=\"Times New Roman,serif\" font-size=\"14.00\" text-anchor=\"middle\" x=\"556\" y=\"-22.8\">value = [7143, 8681]</text>\n",
       "<text font-family=\"Times New Roman,serif\" font-size=\"14.00\" text-anchor=\"middle\" x=\"556\" y=\"-7.8\">class = 1</text>\n",
       "</g>\n",
       "<!-- 5&#45;&gt;7 -->\n",
       "<g class=\"edge\" id=\"edge7\"><title>5-&gt;7</title>\n",
       "<path d=\"M530.267,-103.726C533.443,-95.2439 536.799,-86.2819 540,-77.7312\" fill=\"none\" stroke=\"black\"/>\n",
       "<polygon fill=\"black\" points=\"543.303,-78.892 543.532,-68.2996 536.747,-76.4373 543.303,-78.892\" stroke=\"black\"/>\n",
       "</g>\n",
       "<!-- 9 -->\n",
       "<g class=\"node\" id=\"node10\"><title>9</title>\n",
       "<polygon fill=\"#399de5\" fill-opacity=\"0.929412\" points=\"833,-187 671,-187 671,-104 833,-104 833,-187\" stroke=\"black\"/>\n",
       "<text font-family=\"Times New Roman,serif\" font-size=\"14.00\" text-anchor=\"middle\" x=\"752\" y=\"-171.8\">browserid_Firefox &lt;= 0.5</text>\n",
       "<text font-family=\"Times New Roman,serif\" font-size=\"14.00\" text-anchor=\"middle\" x=\"752\" y=\"-156.8\">gini = 0.123</text>\n",
       "<text font-family=\"Times New Roman,serif\" font-size=\"14.00\" text-anchor=\"middle\" x=\"752\" y=\"-141.8\">samples = 150529</text>\n",
       "<text font-family=\"Times New Roman,serif\" font-size=\"14.00\" text-anchor=\"middle\" x=\"752\" y=\"-126.8\">value = [9909, 140620]</text>\n",
       "<text font-family=\"Times New Roman,serif\" font-size=\"14.00\" text-anchor=\"middle\" x=\"752\" y=\"-111.8\">class = 1</text>\n",
       "</g>\n",
       "<!-- 8&#45;&gt;9 -->\n",
       "<g class=\"edge\" id=\"edge9\"><title>8-&gt;9</title>\n",
       "<path d=\"M752,-222.907C752,-214.649 752,-205.864 752,-197.302\" fill=\"none\" stroke=\"black\"/>\n",
       "<polygon fill=\"black\" points=\"755.5,-197.021 752,-187.021 748.5,-197.021 755.5,-197.021\" stroke=\"black\"/>\n",
       "</g>\n",
       "<!-- 12 -->\n",
       "<g class=\"node\" id=\"node13\"><title>12</title>\n",
       "<polygon fill=\"#399de5\" fill-opacity=\"0.094118\" points=\"1087.5,-187 956.5,-187 956.5,-104 1087.5,-104 1087.5,-187\" stroke=\"black\"/>\n",
       "<text font-family=\"Times New Roman,serif\" font-size=\"14.00\" text-anchor=\"middle\" x=\"1022\" y=\"-171.8\">devid_Tablet &lt;= 0.5</text>\n",
       "<text font-family=\"Times New Roman,serif\" font-size=\"14.00\" text-anchor=\"middle\" x=\"1022\" y=\"-156.8\">gini = 0.499</text>\n",
       "<text font-family=\"Times New Roman,serif\" font-size=\"14.00\" text-anchor=\"middle\" x=\"1022\" y=\"-141.8\">samples = 9456</text>\n",
       "<text font-family=\"Times New Roman,serif\" font-size=\"14.00\" text-anchor=\"middle\" x=\"1022\" y=\"-126.8\">value = [4499, 4957]</text>\n",
       "<text font-family=\"Times New Roman,serif\" font-size=\"14.00\" text-anchor=\"middle\" x=\"1022\" y=\"-111.8\">class = 1</text>\n",
       "</g>\n",
       "<!-- 8&#45;&gt;12 -->\n",
       "<g class=\"edge\" id=\"edge12\"><title>8-&gt;12</title>\n",
       "<path d=\"M828.289,-230.442C865.522,-214.307 910.155,-194.966 947.19,-178.918\" fill=\"none\" stroke=\"black\"/>\n",
       "<polygon fill=\"black\" points=\"948.649,-182.1 956.433,-174.913 945.865,-175.677 948.649,-182.1\" stroke=\"black\"/>\n",
       "</g>\n",
       "<!-- 10 -->\n",
       "<g class=\"node\" id=\"node11\"><title>10</title>\n",
       "<polygon fill=\"#399de5\" fill-opacity=\"0.976471\" points=\"784.5,-68 639.5,-68 639.5,-0 784.5,-0 784.5,-68\" stroke=\"black\"/>\n",
       "<text font-family=\"Times New Roman,serif\" font-size=\"14.00\" text-anchor=\"middle\" x=\"712\" y=\"-52.8\">gini = 0.043</text>\n",
       "<text font-family=\"Times New Roman,serif\" font-size=\"14.00\" text-anchor=\"middle\" x=\"712\" y=\"-37.8\">samples = 129176</text>\n",
       "<text font-family=\"Times New Roman,serif\" font-size=\"14.00\" text-anchor=\"middle\" x=\"712\" y=\"-22.8\">value = [2859, 126317]</text>\n",
       "<text font-family=\"Times New Roman,serif\" font-size=\"14.00\" text-anchor=\"middle\" x=\"712\" y=\"-7.8\">class = 1</text>\n",
       "</g>\n",
       "<!-- 9&#45;&gt;10 -->\n",
       "<g class=\"edge\" id=\"edge10\"><title>9-&gt;10</title>\n",
       "<path d=\"M737.105,-103.726C734.007,-95.2439 730.733,-86.2819 727.61,-77.7312\" fill=\"none\" stroke=\"black\"/>\n",
       "<polygon fill=\"black\" points=\"730.883,-76.4916 724.164,-68.2996 724.308,-78.8935 730.883,-76.4916\" stroke=\"black\"/>\n",
       "</g>\n",
       "<!-- 11 -->\n",
       "<g class=\"node\" id=\"node12\"><title>11</title>\n",
       "<polygon fill=\"#399de5\" fill-opacity=\"0.505882\" points=\"941,-68 803,-68 803,-0 941,-0 941,-68\" stroke=\"black\"/>\n",
       "<text font-family=\"Times New Roman,serif\" font-size=\"14.00\" text-anchor=\"middle\" x=\"872\" y=\"-52.8\">gini = 0.442</text>\n",
       "<text font-family=\"Times New Roman,serif\" font-size=\"14.00\" text-anchor=\"middle\" x=\"872\" y=\"-37.8\">samples = 21353</text>\n",
       "<text font-family=\"Times New Roman,serif\" font-size=\"14.00\" text-anchor=\"middle\" x=\"872\" y=\"-22.8\">value = [7050, 14303]</text>\n",
       "<text font-family=\"Times New Roman,serif\" font-size=\"14.00\" text-anchor=\"middle\" x=\"872\" y=\"-7.8\">class = 1</text>\n",
       "</g>\n",
       "<!-- 9&#45;&gt;11 -->\n",
       "<g class=\"edge\" id=\"edge11\"><title>9-&gt;11</title>\n",
       "<path d=\"M796.684,-103.726C806.879,-94.423 817.707,-84.5428 827.878,-75.2612\" fill=\"none\" stroke=\"black\"/>\n",
       "<polygon fill=\"black\" points=\"830.48,-77.6255 835.507,-68.2996 825.761,-72.4547 830.48,-77.6255\" stroke=\"black\"/>\n",
       "</g>\n",
       "<!-- 13 -->\n",
       "<g class=\"node\" id=\"node14\"><title>13</title>\n",
       "<polygon fill=\"#399de5\" fill-opacity=\"0.725490\" points=\"1084.5,-68 959.5,-68 959.5,-0 1084.5,-0 1084.5,-68\" stroke=\"black\"/>\n",
       "<text font-family=\"Times New Roman,serif\" font-size=\"14.00\" text-anchor=\"middle\" x=\"1022\" y=\"-52.8\">gini = 0.337</text>\n",
       "<text font-family=\"Times New Roman,serif\" font-size=\"14.00\" text-anchor=\"middle\" x=\"1022\" y=\"-37.8\">samples = 2587</text>\n",
       "<text font-family=\"Times New Roman,serif\" font-size=\"14.00\" text-anchor=\"middle\" x=\"1022\" y=\"-22.8\">value = [556, 2031]</text>\n",
       "<text font-family=\"Times New Roman,serif\" font-size=\"14.00\" text-anchor=\"middle\" x=\"1022\" y=\"-7.8\">class = 1</text>\n",
       "</g>\n",
       "<!-- 12&#45;&gt;13 -->\n",
       "<g class=\"edge\" id=\"edge13\"><title>12-&gt;13</title>\n",
       "<path d=\"M1022,-103.726C1022,-95.5175 1022,-86.8595 1022,-78.56\" fill=\"none\" stroke=\"black\"/>\n",
       "<polygon fill=\"black\" points=\"1025.5,-78.2996 1022,-68.2996 1018.5,-78.2996 1025.5,-78.2996\" stroke=\"black\"/>\n",
       "</g>\n",
       "<!-- 14 -->\n",
       "<g class=\"node\" id=\"node15\"><title>14</title>\n",
       "<polygon fill=\"#e58139\" fill-opacity=\"0.258824\" points=\"1233.5,-68 1102.5,-68 1102.5,-0 1233.5,-0 1233.5,-68\" stroke=\"black\"/>\n",
       "<text font-family=\"Times New Roman,serif\" font-size=\"14.00\" text-anchor=\"middle\" x=\"1168\" y=\"-52.8\">gini = 0.489</text>\n",
       "<text font-family=\"Times New Roman,serif\" font-size=\"14.00\" text-anchor=\"middle\" x=\"1168\" y=\"-37.8\">samples = 6869</text>\n",
       "<text font-family=\"Times New Roman,serif\" font-size=\"14.00\" text-anchor=\"middle\" x=\"1168\" y=\"-22.8\">value = [3943, 2926]</text>\n",
       "<text font-family=\"Times New Roman,serif\" font-size=\"14.00\" text-anchor=\"middle\" x=\"1168\" y=\"-7.8\">class = 0</text>\n",
       "</g>\n",
       "<!-- 12&#45;&gt;14 -->\n",
       "<g class=\"edge\" id=\"edge14\"><title>12-&gt;14</title>\n",
       "<path d=\"M1076.37,-103.726C1089.13,-94.1494 1102.72,-83.9611 1115.41,-74.4438\" fill=\"none\" stroke=\"black\"/>\n",
       "<polygon fill=\"black\" points=\"1117.7,-77.0996 1123.6,-68.2996 1113.5,-71.4996 1117.7,-77.0996\" stroke=\"black\"/>\n",
       "</g>\n",
       "</g>\n",
       "</svg>"
      ],
      "text/plain": [
       "<IPython.core.display.SVG object>"
      ]
     },
     "metadata": {},
     "output_type": "display_data"
    }
   ],
   "source": [
    "from sklearn.tree import export_graphviz\n",
    "from sklearn import tree\n",
    "from IPython.display import SVG\n",
    "from graphviz import Source\n",
    "from IPython.display import display\n",
    "\n",
    "graph = Source(tree.export_graphviz(clf_gini, out_file=None\n",
    "   , feature_names=df2.columns, class_names=['0', '1'] \n",
    "   , filled = True))\n",
    "display(SVG(graph.pipe(format='svg')))"
   ]
  },
  {
   "cell_type": "markdown",
   "metadata": {},
   "source": [
    "# Test Data Pre-processing"
   ]
  },
  {
   "cell_type": "code",
   "execution_count": 64,
   "metadata": {},
   "outputs": [],
   "source": [
    "df_test = pd.read_csv(\"Desktop/Tookitaki/test.csv\")"
   ]
  },
  {
   "cell_type": "code",
   "execution_count": 65,
   "metadata": {},
   "outputs": [],
   "source": [
    "df_test[\"browserid\"].replace(\"Mozilla Firefox\", \"Firefox\", inplace=True)\n",
    "df_test[\"browserid\"].replace(\"Mozilla\", \"Firefox\", inplace=True)\n",
    "df_test[\"browserid\"].replace(\"InternetExplorer\", \"IE\", inplace=True)\n",
    "df_test[\"browserid\"].replace(\"Internet Explorer\", \"IE\", inplace=True)\n",
    "df_test[\"browserid\"].replace(\"Google Chrome\", \"Chrome\", inplace=True)\n",
    "df_test[\"browserid\"].fillna(method=\"bfill\", inplace=True)\n",
    "df_test[\"devid\"].fillna(method=\"bfill\", inplace=True)\n",
    "df_test[\"siteid\"].fillna(method=\"ffill\", inplace=True)"
   ]
  },
  {
   "cell_type": "code",
   "execution_count": 66,
   "metadata": {},
   "outputs": [
    {
     "name": "stdout",
     "output_type": "stream",
     "text": [
      "219173\n",
      "847510\n",
      "271\n",
      "697\n",
      "6\n",
      "6\n",
      "3\n"
     ]
    }
   ],
   "source": [
    "print(df[\"siteid\"].nunique())\n",
    "print(df[\"offerid\"].nunique())\n",
    "print(df[\"category\"].nunique())\n",
    "print(df[\"merchant\"].nunique())\n",
    "print(df[\"countrycode\"].nunique())\n",
    "print(df[\"browserid\"].nunique())\n",
    "print(df[\"devid\"].nunique())"
   ]
  },
  {
   "cell_type": "code",
   "execution_count": 67,
   "metadata": {},
   "outputs": [
    {
     "name": "stdout",
     "output_type": "stream",
     "text": [
      "84892\n",
      "556519\n",
      "267\n",
      "650\n",
      "6\n",
      "6\n",
      "3\n"
     ]
    }
   ],
   "source": [
    "print(df_test[\"siteid\"].nunique())\n",
    "print(df_test[\"offerid\"].nunique())\n",
    "print(df_test[\"category\"].nunique())\n",
    "print(df_test[\"merchant\"].nunique())\n",
    "print(df_test[\"countrycode\"].nunique())\n",
    "print(df_test[\"browserid\"].nunique())\n",
    "print(df_test[\"devid\"].nunique())"
   ]
  },
  {
   "cell_type": "code",
   "execution_count": 68,
   "metadata": {},
   "outputs": [],
   "source": [
    "df_test['datetime']= pd.to_datetime(df_test['datetime'])\n",
    "df_test['date'] = [d.date() for d in df_test['datetime']]\n",
    "df_test['time'] = [d.time() for d in df_test['datetime']]"
   ]
  },
  {
   "cell_type": "code",
   "execution_count": 69,
   "metadata": {},
   "outputs": [],
   "source": [
    "def fillnews(x,dict_ref,max1):\n",
    "    try:\n",
    "        return dict_ref[x]\n",
    "    except KeyError:\n",
    "        return max1"
   ]
  },
  {
   "cell_type": "code",
   "execution_count": 70,
   "metadata": {},
   "outputs": [],
   "source": [
    "max1=max(list(dict_ref1.values()))\n",
    "df_test[\"freq_siteid\"]=df_test[\"siteid\"].apply(lambda l: fillnews(l,dict_ref1,max1))"
   ]
  },
  {
   "cell_type": "code",
   "execution_count": 71,
   "metadata": {},
   "outputs": [],
   "source": [
    "max2=max(list(dict_ref2.values()))\n",
    "df_test[\"freq_offerid\"]=df_test[\"offerid\"].apply(lambda l: fillnews(l,dict_ref2,max2))"
   ]
  },
  {
   "cell_type": "code",
   "execution_count": 79,
   "metadata": {},
   "outputs": [],
   "source": [
    "max3=max(list(dict_ref3.values()))\n",
    "df_test[\"freq_merchant\"]=df_test[\"merchant\"].apply(lambda l: fillnews(l,dict_ref3,max3))"
   ]
  },
  {
   "cell_type": "code",
   "execution_count": 80,
   "metadata": {},
   "outputs": [],
   "source": [
    "max4=max(list(dict_ref4.values()))\n",
    "df_test[\"freq_category\"]=df_test[\"category\"].apply(lambda l: fillnews(l,dict_ref4,max4))"
   ]
  },
  {
   "cell_type": "code",
   "execution_count": 81,
   "metadata": {},
   "outputs": [],
   "source": [
    "max5=max(list(dict_ref5.values()))\n",
    "df_test[\"freq_time\"]=df_test[\"time\"].apply(lambda l: fillnews(l,dict_ref5,max5))"
   ]
  },
  {
   "cell_type": "code",
   "execution_count": 82,
   "metadata": {},
   "outputs": [],
   "source": [
    "df_test[\"cat_siteid\"]=\"wow\"\n",
    "df_test[\"cat_siteid\"]= df_test[\"freq_siteid\"].apply(lambda x:zeb(x))"
   ]
  },
  {
   "cell_type": "code",
   "execution_count": 83,
   "metadata": {},
   "outputs": [],
   "source": [
    "df_test[\"cat_offerid\"]=\"wow\"\n",
    "df_test[\"cat_offerid\"]= df_test[\"freq_offerid\"].apply(lambda x:web(x))"
   ]
  },
  {
   "cell_type": "code",
   "execution_count": 84,
   "metadata": {},
   "outputs": [],
   "source": [
    "df_test[\"cat_merchant\"]=\"wow\"\n",
    "df_test[\"cat_merchant\"]= df_test[\"freq_merchant\"].apply(lambda x:xeb(x))"
   ]
  },
  {
   "cell_type": "code",
   "execution_count": 85,
   "metadata": {},
   "outputs": [],
   "source": [
    "df_test[\"cat_category\"]=\"wow\"\n",
    "df_test[\"cat_category\"]= df_test[\"freq_category\"].apply(lambda x:yeb(x))"
   ]
  },
  {
   "cell_type": "code",
   "execution_count": 86,
   "metadata": {},
   "outputs": [],
   "source": [
    "df_test[\"cat_time\"]=\"wow\"\n",
    "df_test[\"cat_time\"]= df_test[\"freq_time\"].apply(lambda x:veb(x))"
   ]
  },
  {
   "cell_type": "code",
   "execution_count": 87,
   "metadata": {},
   "outputs": [],
   "source": [
    "df_test1= df_test.drop([\"category\", \"merchant\", \"datetime\", \"siteid\", \"offerid\",\"freq_category\", \"freq_merchant\", \"freq_time\", \"freq_siteid\", \"freq_offerid\", \"date\",\"time\"] , axis=1)"
   ]
  },
  {
   "cell_type": "code",
   "execution_count": 88,
   "metadata": {},
   "outputs": [],
   "source": [
    "df_test2 = pd.get_dummies(df_test1[categorical],drop_first=True)"
   ]
  },
  {
   "cell_type": "markdown",
   "metadata": {},
   "source": [
    "# Applying Model On Test Data"
   ]
  },
  {
   "cell_type": "code",
   "execution_count": 119,
   "metadata": {},
   "outputs": [],
   "source": [
    "df_test[\"click\"] = float('nan')\n",
    "value = lr.predict_proba(df_test2)\n",
    "df_test[\"click\"]= value[:,1]\n",
    "# df_test.set_index(\"ID\", inplace=True)"
   ]
  },
  {
   "cell_type": "code",
   "execution_count": 120,
   "metadata": {},
   "outputs": [
    {
     "data": {
      "text/plain": [
       "ID\n",
       "IDFDJVI    0.026769\n",
       "IDNWkTQ    0.000010\n",
       "ID9pRmM    0.024603\n",
       "IDHaQaj    0.009367\n",
       "IDT2CrF    0.019421\n",
       "IDFZS6l    0.722613\n",
       "IDecQv2    0.130035\n",
       "IDR9hAD    0.006563\n",
       "IDzZxxC    0.081203\n",
       "IDqvysv    0.007618\n",
       "ID0glaO    0.009367\n",
       "IDtcynu    0.052592\n",
       "IDFL25i    0.114235\n",
       "IDOrk16    0.982961\n",
       "ID9eJOm    0.047240\n",
       "ID4jcOk    0.000045\n",
       "IDUymsI    0.010309\n",
       "ID6pV5P    0.923995\n",
       "IDIeWTY    0.009367\n",
       "IDXEp3L    0.026769\n",
       "IDAARYP    0.151486\n",
       "IDCCqj3    0.034472\n",
       "IDMscJr    0.034472\n",
       "IDu8nxQ    0.413606\n",
       "IDzYpBs    0.151607\n",
       "IDh6KmC    0.764252\n",
       "IDYf7g8    0.187507\n",
       "IDhj7ih    0.034011\n",
       "IDB0Gwa    0.081203\n",
       "IDJ5x0d    0.028089\n",
       "             ...   \n",
       "IDwFXmy    0.521624\n",
       "IDZlb65    0.011958\n",
       "IDbO1UK    0.007618\n",
       "ID9mn3P    0.016760\n",
       "IDlqTi0    0.029408\n",
       "IDHV5yL    0.972040\n",
       "IDClkHg    0.019421\n",
       "IDUHUbN    0.000132\n",
       "IDMUEyf    0.051240\n",
       "ID6MyBX    0.486486\n",
       "IDIn5b1    0.040488\n",
       "IDRGWT3    0.348667\n",
       "IDJ3KxL    0.034472\n",
       "IDA9x1v    0.028089\n",
       "IDwRynQ    0.538583\n",
       "IDNoFpa    0.843660\n",
       "IDk4Vtd    0.005745\n",
       "ID3oTzG    0.019421\n",
       "IDWCP6x    0.051240\n",
       "IDfBGIy    0.034011\n",
       "IDd2cde    0.000021\n",
       "IDR6rCP    0.293457\n",
       "IDkQL5G    0.026769\n",
       "IDuJvaO    0.011958\n",
       "IDPABVQ    0.006563\n",
       "IDboA6b    0.545401\n",
       "IDpHDPM    0.712485\n",
       "IDAISNl    0.064963\n",
       "ID3k389    0.095981\n",
       "IDjioLR    0.238820\n",
       "Name: click, Length: 3706907, dtype: float64"
      ]
     },
     "execution_count": 120,
     "metadata": {},
     "output_type": "execute_result"
    }
   ],
   "source": [
    "df_test[\"click\"]"
   ]
  },
  {
   "cell_type": "markdown",
   "metadata": {},
   "source": [
    "# Saving csv file"
   ]
  },
  {
   "cell_type": "code",
   "execution_count": 122,
   "metadata": {},
   "outputs": [],
   "source": [
    "df_test[[\"click\"]].to_csv(\"Desktop/Tookitaki/submission2.csv\")"
   ]
  }
 ],
 "metadata": {
  "kernelspec": {
   "display_name": "Python 3",
   "language": "python",
   "name": "python3"
  },
  "language_info": {
   "codemirror_mode": {
    "name": "ipython",
    "version": 3
   },
   "file_extension": ".py",
   "mimetype": "text/x-python",
   "name": "python",
   "nbconvert_exporter": "python",
   "pygments_lexer": "ipython3",
   "version": "3.7.1"
  }
 },
 "nbformat": 4,
 "nbformat_minor": 2
}
